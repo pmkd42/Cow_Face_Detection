version https://git-lfs.github.com/spec/v1
oid sha256:c6595c050f250d60e7513cd71394fea5199fdb6999a65d93a20b5810f4626d78
size 302285718
